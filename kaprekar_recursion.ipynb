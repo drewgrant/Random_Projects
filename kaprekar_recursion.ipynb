{
 "cells": [
  {
   "cell_type": "code",
   "execution_count": 1,
   "id": "based-constitution",
   "metadata": {},
   "outputs": [],
   "source": [
    "import numpy as np\n",
    "import matplotlib.pyplot as plt"
   ]
  },
  {
   "cell_type": "markdown",
   "id": "backed-macro",
   "metadata": {},
   "source": [
    "# Lets Compute Kaprekar's Number with Recursion"
   ]
  },
  {
   "cell_type": "code",
   "execution_count": 37,
   "id": "solid-spoke",
   "metadata": {},
   "outputs": [],
   "source": [
    "# return kap's number when it's reached\n",
    "def kap_rec(num):\n",
    "#     print(num)\n",
    "    if len(str(num)) != 4:\n",
    "        num = '0'*(4-len(str(num)))+str(num)\n",
    "    if len(set(str(num))) == 1:\n",
    "        return(0)\n",
    "    else:\n",
    "        num = int(num)\n",
    "        if num == 6174:\n",
    "            return(num)\n",
    "        else:\n",
    "            des_num = int(''.join(sorted(str(num), reverse=True)))\n",
    "            if len(str(des_num)) != 4:\n",
    "                des_num = int(str(des_num)+'0'*(4-len(str(des_num))))\n",
    "            asc_num = int(''.join(sorted(str(num), reverse=False)))\n",
    "            if len(str(asc_num)) != 4:\n",
    "                asc_num = int('0'*(4-len(str(asc_num))) + str(asc_num))\n",
    "            return(kap_rec(des_num - asc_num))"
   ]
  },
  {
   "cell_type": "code",
   "execution_count": 42,
   "id": "raised-gateway",
   "metadata": {},
   "outputs": [],
   "source": [
    "all_nums = []\n",
    "for num in range(0, 9999+1):\n",
    "    all_nums.append(kap_rec(num))"
   ]
  },
  {
   "cell_type": "code",
   "execution_count": 57,
   "id": "heavy-sweet",
   "metadata": {},
   "outputs": [
    {
     "data": {
      "text/plain": [
       "[<matplotlib.lines.Line2D at 0x2a9cd0b9a00>]"
      ]
     },
     "execution_count": 57,
     "metadata": {},
     "output_type": "execute_result"
    },
    {
     "data": {
      "image/png": "[encoded data removed]",
      "text/plain": [
       "<Figure size 432x288 with 1 Axes>"
      ]
     },
     "metadata": {
      "needs_background": "light"
     },
     "output_type": "display_data"
    }
   ],
   "source": [
    "plt.plot(all_nums, 'o')"
   ]
  },
  {
   "cell_type": "markdown",
   "id": "antique-mailing",
   "metadata": {},
   "source": [
    "# Lets Compute Kaprekar's Number with a Loop"
   ]
  },
  {
   "cell_type": "code",
   "execution_count": 61,
   "id": "colonial-suspect",
   "metadata": {},
   "outputs": [],
   "source": [
    "# return kap's number when it's reached\n",
    "def kap(num):\n",
    "#     print(num)\n",
    "    if len(str(num)) != 4:\n",
    "        num = '0'*(4-len(str(num)))+str(num)\n",
    "    if len(set(str(num))) == 1:\n",
    "        return(0)\n",
    "    else:\n",
    "        num = int(num)\n",
    "        counter = 0\n",
    "        while num != 6174:\n",
    "            counter += 1\n",
    "            des_num = int(''.join(sorted(str(num), reverse=True)))\n",
    "            if len(str(des_num)) != 4:\n",
    "                des_num = int(str(des_num)+'0'*(4-len(str(des_num))))\n",
    "            asc_num = int(''.join(sorted(str(num), reverse=False)))\n",
    "            if len(str(asc_num)) != 4:\n",
    "                asc_num = int('0'*(4-len(str(asc_num))) + str(asc_num))\n",
    "            num = des_num - asc_num\n",
    "#         return(counter, num)\n",
    "        return(num)    "
   ]
  },
  {
   "cell_type": "code",
   "execution_count": 62,
   "id": "historic-pierce",
   "metadata": {},
   "outputs": [],
   "source": [
    "all_nums = []\n",
    "for num in range(0, 9999+1):\n",
    "    all_nums.append(kap(num))"
   ]
  },
  {
   "cell_type": "code",
   "execution_count": 63,
   "id": "bronze-mechanism",
   "metadata": {},
   "outputs": [
    {
     "data": {
      "text/plain": [
       "[<matplotlib.lines.Line2D at 0x2a9ccae0bb0>]"
      ]
     },
     "execution_count": 63,
     "metadata": {},
     "output_type": "execute_result"
    },
    {
     "data": {
      "image/png": "[encoded data removed]",
      "text/plain": [
       "<Figure size 432x288 with 1 Axes>"
      ]
     },
     "metadata": {
      "needs_background": "light"
     },
     "output_type": "display_data"
    }
   ],
   "source": [
    "plt.plot(all_nums, 'o')"
   ]
  },
  {
   "cell_type": "markdown",
   "id": "elder-henry",
   "metadata": {},
   "source": [
    "## Let's take a look at how many iterations it takes to get to Kaprekar's number"
   ]
  },
  {
   "cell_type": "code",
   "execution_count": 67,
   "id": "sudden-donna",
   "metadata": {},
   "outputs": [],
   "source": [
    "# return the number of iterations\n",
    "def kap_counter(num):\n",
    "#     print(num)\n",
    "    if len(str(num)) != 4:\n",
    "        num = '0'*(4-len(str(num)))+str(num)\n",
    "    if len(set(str(num))) == 1:\n",
    "        return(0)\n",
    "    else:\n",
    "        num = int(num)\n",
    "        counter = 0\n",
    "        while num != 6174:\n",
    "            counter += 1\n",
    "            des_num = int(''.join(sorted(str(num), reverse=True)))\n",
    "            if len(str(des_num)) != 4:\n",
    "                des_num = int(str(des_num)+'0'*(4-len(str(des_num))))\n",
    "            asc_num = int(''.join(sorted(str(num), reverse=False)))\n",
    "            if len(str(asc_num)) != 4:\n",
    "                asc_num = int('0'*(4-len(str(asc_num))) + str(asc_num))\n",
    "            num = des_num - asc_num\n",
    "        return(counter)"
   ]
  },
  {
   "cell_type": "code",
   "execution_count": 88,
   "id": "supposed-blowing",
   "metadata": {},
   "outputs": [],
   "source": [
    "iterations = []\n",
    "for num in range(0, 9999+1):\n",
    "    iterations.append(kap_counter(num))\n",
    "avg_iters = np.mean(iterations)\n",
    "upper_bound = avg_iters + np.std(iterations) \n",
    "lower_bound = avg_iters - np.std(iterations)"
   ]
  },
  {
   "cell_type": "code",
   "execution_count": 92,
   "id": "boring-bundle",
   "metadata": {},
   "outputs": [
    {
     "data": {
      "text/plain": [
       "Text(0.5, 1.0, \"Kaprekar's Iterations\")"
      ]
     },
     "execution_count": 92,
     "metadata": {},
     "output_type": "execute_result"
    },
    {
     "data": {
      "image/png": "[encoded data removed]",
      "text/plain": [
       "<Figure size 864x432 with 1 Axes>"
      ]
     },
     "metadata": {
      "needs_background": "light"
     },
     "output_type": "display_data"
    }
   ],
   "source": [
    "plt.figure(figsize=(12, 6))\n",
    "plt.plot(iterations, '+')\n",
    "plt.axhline(upper_bound, color='indigo', label='Upper Bound')\n",
    "plt.axhline(avg_iters, color='mediumorchid', label='Average')\n",
    "plt.axhline(lower_bound, color='violet', label='Lower Bound')\n",
    "plt.grid()\n",
    "plt.legend()\n",
    "plt.xlabel('Input Number')\n",
    "plt.ylabel('Iterations')\n",
    "plt.title(\"Kaprekar's Iterations\")"
   ]
  },
  {
   "cell_type": "code",
   "execution_count": 97,
   "id": "damaged-bhutan",
   "metadata": {},
   "outputs": [
    {
     "data": {
      "text/plain": [
       "Text(0.5, 1.0, \"Histogram of Iterations to Reach Kaprekar's Number\")"
      ]
     },
     "execution_count": 97,
     "metadata": {},
     "output_type": "execute_result"
    },
    {
     "data": {
      "image/png": "[encoded data removed]",
      "text/plain": [
       "<Figure size 864x432 with 1 Axes>"
      ]
     },
     "metadata": {
      "needs_background": "light"
     },
     "output_type": "display_data"
    }
   ],
   "source": [
    "plt.figure(figsize=(12, 6))\n",
    "plt.hist(iterations, bins=8)\n",
    "plt.xlabel(\"Number of Iterations\")\n",
    "plt.ylabel(\"Frequency\")\n",
    "plt.title(\"Histogram of Iterations to Reach Kaprekar's Number\")"
   ]
  },
  {
   "cell_type": "code",
   "execution_count": null,
   "id": "finished-quantity",
   "metadata": {},
   "outputs": [],
   "source": []
  }
 ],
 "metadata": {
  "kernelspec": {
   "display_name": "Python 3",
   "language": "python",
   "name": "python3"
  },
  "language_info": {
   "codemirror_mode": {
    "name": "ipython",
    "version": 3
   },
   "file_extension": ".py",
   "mimetype": "text/x-python",
   "name": "python",
   "nbconvert_exporter": "python",
   "pygments_lexer": "ipython3",
   "version": "3.8.8"
  }
 },
 "nbformat": 4,
 "nbformat_minor": 5
}
